{
 "cells": [
  {
   "cell_type": "code",
   "execution_count": 138,
   "id": "95400c99-8e47-4d0f-a4a4-3291af3916ee",
   "metadata": {},
   "outputs": [
    {
     "name": "stdout",
     "output_type": "stream",
     "text": [
      "C:\\Users\\ongha\\anaconda3\\envs\\AbInitio\\Lib\\site-packages\n"
     ]
    }
   ],
   "source": [
    "from distutils.sysconfig import get_python_lib\n",
    "print(get_python_lib())"
   ]
  },
  {
   "cell_type": "code",
   "execution_count": 139,
   "id": "721cdfef-c6dc-458c-9b60-b53a5567f853",
   "metadata": {},
   "outputs": [],
   "source": [
    "import pandas as pd\n",
    "from pathlib import Path\n",
    "import numpy as np\n",
    "import matplotlib.pyplot as plt\n",
    "import matplotlib as mpl"
   ]
  },
  {
   "cell_type": "code",
   "execution_count": 140,
   "id": "94fcc786-407b-49d0-9084-af752724f28b",
   "metadata": {},
   "outputs": [],
   "source": [
    "Path_to_GridPoints = Path(\"./test list csv files for Ge0.5Sn0.5/\")\n",
    "\n",
    "# Use the .glob() method to find all CSV files in that directory\n",
    "csv_files = Path_to_GridPoints.glob(\"*.csv\")"
   ]
  },
  {
   "cell_type": "code",
   "execution_count": 141,
   "id": "e79260b6-0718-4f35-8e51-5c8ff2cdceba",
   "metadata": {},
   "outputs": [],
   "source": [
    "import pandas as pd\n",
    "import numpy as np\n",
    "\n",
    "# Initialize the dataframe and variables\n",
    "grid_df = pd.DataFrame()\n",
    "\n",
    "Z_Si = 14\n",
    "Z_Ge = 32\n",
    "Z_Sn = 50\n",
    "\n",
    "num_gridpoints = 8\n",
    "num_nearestNeighbors = 5\n",
    "\n",
    "Si = np.empty(num_gridpoints)\n",
    "Ge = np.empty(num_gridpoints)\n",
    "Sn = np.empty(num_gridpoints)\n",
    "nearestNeighbors = np.empty(num_nearestNeighbors)\n",
    "\n",
    "# Assuming csv_files is already defined elsewhere\n",
    "for i, csv_file in enumerate(csv_files):\n",
    "    df = pd.read_csv(csv_file)\n",
    "    \n",
    "    # Calculate the fraction of neighbors with atomic number of silicon, germanium, and tin\n",
    "    Si[i] = (df.loc[df['z'] == Z_Si, ['r_diff']].size / df['z'].size)\n",
    "    Ge[i] = (df.loc[df['z'] == Z_Ge, ['r_diff']].size / df['z'].size)\n",
    "    Sn[i] = (df.loc[df['z'] == Z_Sn, ['r_diff']].size / df['z'].size)\n",
    "    \n",
    "    # Sort the dataframe by 'r_diff'\n",
    "    df.sort_values(by=['r_diff'], ascending=True, inplace=True, ignore_index=True)\n",
    "    \n",
    "    # Get the smallest r_diff and corresponding atomic number (z)\n",
    "    smallest_r_diff = df.iloc[0]['r_diff']\n",
    "    corresponding_z = df.iloc[0]['z']\n",
    "    \n",
    "    # Store these values in the grid_df (unique row for each CSV file)\n",
    "    grid_df.at[f\"CSV_{i+1}_smallest_r_diff\", 'r_diff'] = smallest_r_diff\n",
    "    grid_df.at[f\"CSV_{i+1}_corresponding_z\", 'z'] = corresponding_z\n",
    "\n",
    "# The grid_df will now have the smallest r_diff and corresponding atomic number for each CSV file."
   ]
  },
  {
   "cell_type": "code",
   "execution_count": 142,
   "id": "554bb965-1198-45f2-b061-78d5fca1903c",
   "metadata": {},
   "outputs": [
    {
     "ename": "ValueError",
     "evalue": "Length of values (8) does not match length of index (16)",
     "output_type": "error",
     "traceback": [
      "\u001b[1;31m---------------------------------------------------------------------------\u001b[0m",
      "\u001b[1;31mValueError\u001b[0m                                Traceback (most recent call last)",
      "Cell \u001b[1;32mIn[142], line 1\u001b[0m\n\u001b[1;32m----> 1\u001b[0m grid_df[\u001b[38;5;124m'\u001b[39m\u001b[38;5;124m%\u001b[39m\u001b[38;5;124mSi\u001b[39m\u001b[38;5;124m'\u001b[39m] \u001b[38;5;241m=\u001b[39m Si\n\u001b[0;32m      2\u001b[0m grid_df[\u001b[38;5;124m'\u001b[39m\u001b[38;5;132;01m%G\u001b[39;00m\u001b[38;5;124me\u001b[39m\u001b[38;5;124m'\u001b[39m] \u001b[38;5;241m=\u001b[39m Ge\n\u001b[0;32m      3\u001b[0m grid_df[\u001b[38;5;124m'\u001b[39m\u001b[38;5;124m%\u001b[39m\u001b[38;5;124mSn\u001b[39m\u001b[38;5;124m'\u001b[39m] \u001b[38;5;241m=\u001b[39m Sn\n",
      "File \u001b[1;32m~\\anaconda3\\envs\\AbInitio\\Lib\\site-packages\\pandas\\core\\frame.py:4311\u001b[0m, in \u001b[0;36mDataFrame.__setitem__\u001b[1;34m(self, key, value)\u001b[0m\n\u001b[0;32m   4308\u001b[0m     \u001b[38;5;28mself\u001b[39m\u001b[38;5;241m.\u001b[39m_setitem_array([key], value)\n\u001b[0;32m   4309\u001b[0m \u001b[38;5;28;01melse\u001b[39;00m:\n\u001b[0;32m   4310\u001b[0m     \u001b[38;5;66;03m# set column\u001b[39;00m\n\u001b[1;32m-> 4311\u001b[0m     \u001b[38;5;28mself\u001b[39m\u001b[38;5;241m.\u001b[39m_set_item(key, value)\n",
      "File \u001b[1;32m~\\anaconda3\\envs\\AbInitio\\Lib\\site-packages\\pandas\\core\\frame.py:4524\u001b[0m, in \u001b[0;36mDataFrame._set_item\u001b[1;34m(self, key, value)\u001b[0m\n\u001b[0;32m   4514\u001b[0m \u001b[38;5;28;01mdef\u001b[39;00m \u001b[38;5;21m_set_item\u001b[39m(\u001b[38;5;28mself\u001b[39m, key, value) \u001b[38;5;241m-\u001b[39m\u001b[38;5;241m>\u001b[39m \u001b[38;5;28;01mNone\u001b[39;00m:\n\u001b[0;32m   4515\u001b[0m \u001b[38;5;250m    \u001b[39m\u001b[38;5;124;03m\"\"\"\u001b[39;00m\n\u001b[0;32m   4516\u001b[0m \u001b[38;5;124;03m    Add series to DataFrame in specified column.\u001b[39;00m\n\u001b[0;32m   4517\u001b[0m \n\u001b[1;32m   (...)\u001b[0m\n\u001b[0;32m   4522\u001b[0m \u001b[38;5;124;03m    ensure homogeneity.\u001b[39;00m\n\u001b[0;32m   4523\u001b[0m \u001b[38;5;124;03m    \"\"\"\u001b[39;00m\n\u001b[1;32m-> 4524\u001b[0m     value, refs \u001b[38;5;241m=\u001b[39m \u001b[38;5;28mself\u001b[39m\u001b[38;5;241m.\u001b[39m_sanitize_column(value)\n\u001b[0;32m   4526\u001b[0m     \u001b[38;5;28;01mif\u001b[39;00m (\n\u001b[0;32m   4527\u001b[0m         key \u001b[38;5;129;01min\u001b[39;00m \u001b[38;5;28mself\u001b[39m\u001b[38;5;241m.\u001b[39mcolumns\n\u001b[0;32m   4528\u001b[0m         \u001b[38;5;129;01mand\u001b[39;00m value\u001b[38;5;241m.\u001b[39mndim \u001b[38;5;241m==\u001b[39m \u001b[38;5;241m1\u001b[39m\n\u001b[0;32m   4529\u001b[0m         \u001b[38;5;129;01mand\u001b[39;00m \u001b[38;5;129;01mnot\u001b[39;00m \u001b[38;5;28misinstance\u001b[39m(value\u001b[38;5;241m.\u001b[39mdtype, ExtensionDtype)\n\u001b[0;32m   4530\u001b[0m     ):\n\u001b[0;32m   4531\u001b[0m         \u001b[38;5;66;03m# broadcast across multiple columns if necessary\u001b[39;00m\n\u001b[0;32m   4532\u001b[0m         \u001b[38;5;28;01mif\u001b[39;00m \u001b[38;5;129;01mnot\u001b[39;00m \u001b[38;5;28mself\u001b[39m\u001b[38;5;241m.\u001b[39mcolumns\u001b[38;5;241m.\u001b[39mis_unique \u001b[38;5;129;01mor\u001b[39;00m \u001b[38;5;28misinstance\u001b[39m(\u001b[38;5;28mself\u001b[39m\u001b[38;5;241m.\u001b[39mcolumns, MultiIndex):\n",
      "File \u001b[1;32m~\\anaconda3\\envs\\AbInitio\\Lib\\site-packages\\pandas\\core\\frame.py:5266\u001b[0m, in \u001b[0;36mDataFrame._sanitize_column\u001b[1;34m(self, value)\u001b[0m\n\u001b[0;32m   5263\u001b[0m     \u001b[38;5;28;01mreturn\u001b[39;00m _reindex_for_setitem(value, \u001b[38;5;28mself\u001b[39m\u001b[38;5;241m.\u001b[39mindex)\n\u001b[0;32m   5265\u001b[0m \u001b[38;5;28;01mif\u001b[39;00m is_list_like(value):\n\u001b[1;32m-> 5266\u001b[0m     com\u001b[38;5;241m.\u001b[39mrequire_length_match(value, \u001b[38;5;28mself\u001b[39m\u001b[38;5;241m.\u001b[39mindex)\n\u001b[0;32m   5267\u001b[0m arr \u001b[38;5;241m=\u001b[39m sanitize_array(value, \u001b[38;5;28mself\u001b[39m\u001b[38;5;241m.\u001b[39mindex, copy\u001b[38;5;241m=\u001b[39m\u001b[38;5;28;01mTrue\u001b[39;00m, allow_2d\u001b[38;5;241m=\u001b[39m\u001b[38;5;28;01mTrue\u001b[39;00m)\n\u001b[0;32m   5268\u001b[0m \u001b[38;5;28;01mif\u001b[39;00m (\n\u001b[0;32m   5269\u001b[0m     \u001b[38;5;28misinstance\u001b[39m(value, Index)\n\u001b[0;32m   5270\u001b[0m     \u001b[38;5;129;01mand\u001b[39;00m value\u001b[38;5;241m.\u001b[39mdtype \u001b[38;5;241m==\u001b[39m \u001b[38;5;124m\"\u001b[39m\u001b[38;5;124mobject\u001b[39m\u001b[38;5;124m\"\u001b[39m\n\u001b[1;32m   (...)\u001b[0m\n\u001b[0;32m   5273\u001b[0m     \u001b[38;5;66;03m# TODO: Remove kludge in sanitize_array for string mode when enforcing\u001b[39;00m\n\u001b[0;32m   5274\u001b[0m     \u001b[38;5;66;03m# this deprecation\u001b[39;00m\n",
      "File \u001b[1;32m~\\anaconda3\\envs\\AbInitio\\Lib\\site-packages\\pandas\\core\\common.py:573\u001b[0m, in \u001b[0;36mrequire_length_match\u001b[1;34m(data, index)\u001b[0m\n\u001b[0;32m    569\u001b[0m \u001b[38;5;250m\u001b[39m\u001b[38;5;124;03m\"\"\"\u001b[39;00m\n\u001b[0;32m    570\u001b[0m \u001b[38;5;124;03mCheck the length of data matches the length of the index.\u001b[39;00m\n\u001b[0;32m    571\u001b[0m \u001b[38;5;124;03m\"\"\"\u001b[39;00m\n\u001b[0;32m    572\u001b[0m \u001b[38;5;28;01mif\u001b[39;00m \u001b[38;5;28mlen\u001b[39m(data) \u001b[38;5;241m!=\u001b[39m \u001b[38;5;28mlen\u001b[39m(index):\n\u001b[1;32m--> 573\u001b[0m     \u001b[38;5;28;01mraise\u001b[39;00m \u001b[38;5;167;01mValueError\u001b[39;00m(\n\u001b[0;32m    574\u001b[0m         \u001b[38;5;124m\"\u001b[39m\u001b[38;5;124mLength of values \u001b[39m\u001b[38;5;124m\"\u001b[39m\n\u001b[0;32m    575\u001b[0m         \u001b[38;5;124mf\u001b[39m\u001b[38;5;124m\"\u001b[39m\u001b[38;5;124m(\u001b[39m\u001b[38;5;132;01m{\u001b[39;00m\u001b[38;5;28mlen\u001b[39m(data)\u001b[38;5;132;01m}\u001b[39;00m\u001b[38;5;124m) \u001b[39m\u001b[38;5;124m\"\u001b[39m\n\u001b[0;32m    576\u001b[0m         \u001b[38;5;124m\"\u001b[39m\u001b[38;5;124mdoes not match length of index \u001b[39m\u001b[38;5;124m\"\u001b[39m\n\u001b[0;32m    577\u001b[0m         \u001b[38;5;124mf\u001b[39m\u001b[38;5;124m\"\u001b[39m\u001b[38;5;124m(\u001b[39m\u001b[38;5;132;01m{\u001b[39;00m\u001b[38;5;28mlen\u001b[39m(index)\u001b[38;5;132;01m}\u001b[39;00m\u001b[38;5;124m)\u001b[39m\u001b[38;5;124m\"\u001b[39m\n\u001b[0;32m    578\u001b[0m     )\n",
      "\u001b[1;31mValueError\u001b[0m: Length of values (8) does not match length of index (16)"
     ]
    }
   ],
   "source": [
    "grid_df['%Si'] = Si\n",
    "grid_df['%Ge'] = Ge\n",
    "grid_df['%Sn'] = Sn\n",
    "\n",
    "#grid_df['rho_diff'] = [-0.0015, -0.0048, -6.2674e-04, -5.5688e-04, -6.5248e-04, 3.3247e-04, 1.3290e-04, -5.4500e-05]"
   ]
  },
  {
   "cell_type": "raw",
   "id": "86cd392e-90d7-4469-9815-a4f00fe066fe",
   "metadata": {},
   "source": [
    "grid_df"
   ]
  },
  {
   "cell_type": "code",
   "execution_count": null,
   "id": "0febbd90-f221-48b5-8732-b36a7fe73296",
   "metadata": {},
   "outputs": [],
   "source": [
    "grid_df"
   ]
  },
  {
   "cell_type": "code",
   "execution_count": null,
   "id": "f5bc2a71-9aa7-4775-a4d6-d7881a978c42",
   "metadata": {},
   "outputs": [],
   "source": [
    "fig, ax = plt.subplots(figsize=(5,5), layout='constrained')\n",
    "\n",
    "plt.scatter(grid_df[\"%Sn\"], grid_df[\"rho_diff\"], c=grid_df[\"rho_diff\"], cmap=mpl.cm.cool)\n",
    "\n",
    "cmap = mpl.cm.cool\n",
    "norm = mpl.colors.Normalize(vmin=df.nsmallest(1, 'rho_diff')[\"rho_diff\"], vmax=df.nlargest(1, 'rho_diff')[\"rho_diff\"])\n",
    "\n",
    "fig.colorbar(mpl.cm.ScalarMappable(norm=norm, cmap=cmap),\n",
    "             ax=ax, orientation='horizontal', label='Rho_Diff')\n",
    "\n",
    "ax.set_ylabel(r\"$\\rho_{\\text{diff}}$\")\n",
    "ax.set_xlabel(r\"$\\%$ Sn\")"
   ]
  },
  {
   "cell_type": "code",
   "execution_count": null,
   "id": "a12af936-7cfc-498d-988e-99b54eb85b44",
   "metadata": {},
   "outputs": [],
   "source": []
  },
  {
   "cell_type": "code",
   "execution_count": null,
   "id": "4ed88e8a-a836-4f3d-ada8-d2f29dd8b898",
   "metadata": {},
   "outputs": [],
   "source": [
    "# import numpy as np\n",
    "# from pysr import PySRRegressor\n",
    "\n",
    "# # Example dataset\n",
    "# X = np.random.randn(100, 1)  # Single feature\n",
    "# y = X[:, 0]**2 # Synthetic target\n",
    "\n",
    "# model = PySRRegressor(\n",
    "#     niterations=1000,        # Higher → more thorough search\n",
    "#     binary_operators=[\"+\", \"-\", \"*\", \"/\"],\n",
    "#     unary_operators=[\"exp\", \"log\", \"sin\", \"cos\"],\n",
    "#     model_selection=\"best\",  # \"best\" or \"accuracy\" or \"complexity\"\n",
    "# )\n",
    "\n",
    "# model.fit(X, y)\n"
   ]
  },
  {
   "cell_type": "code",
   "execution_count": null,
   "id": "3b35be36-3078-4118-a5e6-8490b68c7a11",
   "metadata": {},
   "outputs": [],
   "source": [
    "# model.get_best().sympy_format\n",
    "# # y = 2 * X[:, 0]**2 + 3 * X[:, 0] + 5  # Synthetic target"
   ]
  },
  {
   "cell_type": "code",
   "execution_count": null,
   "id": "f8ee3f24-1a8b-40ab-b895-374c01e48c27",
   "metadata": {},
   "outputs": [],
   "source": []
  }
 ],
 "metadata": {
  "kernelspec": {
   "display_name": "AbInitio",
   "language": "python",
   "name": "abinitio"
  },
  "language_info": {
   "codemirror_mode": {
    "name": "ipython",
    "version": 3
   },
   "file_extension": ".py",
   "mimetype": "text/x-python",
   "name": "python",
   "nbconvert_exporter": "python",
   "pygments_lexer": "ipython3",
   "version": "3.13.2"
  }
 },
 "nbformat": 4,
 "nbformat_minor": 5
}
